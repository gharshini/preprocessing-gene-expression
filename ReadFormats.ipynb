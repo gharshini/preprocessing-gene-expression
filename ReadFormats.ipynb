{
 "cells": [
  {
   "cell_type": "markdown",
   "metadata": {},
   "source": [
    "This jupyter notebook is useful to read different formats associated with biological data"
   ]
  },
  {
   "cell_type": "markdown",
   "metadata": {},
   "source": [
    "Read all CEL files at a time"
   ]
  },
  {
   "cell_type": "code",
   "execution_count": null,
   "metadata": {},
   "outputs": [],
   "source": [
    "from Bio.Affy import CelFile\n",
    "import glob\n",
    "import os\n",
    "import numpy as np\n",
    "import pandas as pd\n",
    "\n",
    "dir = os.path.join(\"C:/Users/harsh/Desktop/Arabidopsis/genelab data/\", 'celfiles')\n",
    "file_list = glob.glob(dir + '/*.CEL')\n",
    "corpus = []\n",
    "for file_path in file_list:\n",
    "    handle = open(file_path, 'r')\n",
    "    corpus.append(CelFile.read(handle)) \n",
    "\n",
    "\n",
    "PM = np.log(np.array([c.intensities.flatten() for c in corpus]).T)\n"
   ]
  },
  {
   "cell_type": "markdown",
   "metadata": {},
   "source": [
    "Read .txt.gz format"
   ]
  },
  {
   "cell_type": "code",
   "execution_count": null,
   "metadata": {},
   "outputs": [],
   "source": [
    "import gzip\n",
    "path=\"C:/Users/harsh/Desktop/Arabidopsis/genelab data/\"\n",
    "with gzip.open('C:/Users/harsh/Desktop/Arabidopsis/genelab data/GLDS-121_microarray_GPL198-17390.txt.gz', 'rb') as f:\n",
    "    file_content = f.read()"
   ]
  },
  {
   "cell_type": "markdown",
   "metadata": {},
   "source": [
    "Read metadata"
   ]
  },
  {
   "cell_type": "code",
   "execution_count": null,
   "metadata": {},
   "outputs": [],
   "source": [
    "import zipfile       \n",
    "z=zipfile.ZipFile('C:/Users/harsh/Desktop/Arabidopsis/genelab data/GLDS-121_metadata_BRIC-16_CYTO-ISA.zip','r')\n",
    "for info in z.infolist():\n",
    "        fname = info.filename\n",
    "        data = z.read(fname)"
   ]
  },
  {
   "cell_type": "markdown",
   "metadata": {},
   "source": [
    "Read each file in the zip folder of metadata "
   ]
  },
  {
   "cell_type": "code",
   "execution_count": null,
   "metadata": {},
   "outputs": [],
   "source": [
    "import zipfile\n",
    "\n",
    "with zipfile.ZipFile('C:/Users/harsh/Desktop/Arabidopsis/genelab data/GLDS-121_metadata_BRIC-16_CYTO-ISA.zip', 'r') as zf:\n",
    "    for filename in ['s_BRIC-16.txt', 'a_bric-16_transcription_profiling_DNA_microarray.txt', 'i_Investigation.txt']:\n",
    "        try:\n",
    "            data = zf.read(filename)\n",
    "        except KeyError:\n",
    "            print('ERROR: Did not find {} in zip file'.format(\n",
    "                filename))\n",
    "        else:\n",
    "            print(filename, ':')\n",
    "            print(data)\n",
    "        print()"
   ]
  },
  {
   "cell_type": "markdown",
   "metadata": {},
   "source": [
    "Read csv format"
   ]
  },
  {
   "cell_type": "code",
   "execution_count": null,
   "metadata": {},
   "outputs": [],
   "source": [
    "df = pd.read_csv('C:/Users/harsh/Desktop/Arabidopsis/genelab data/GLDS147.csv')\n",
    "print(\"Number of genes: \" + str(len(df)))\n",
    "\n",
    "#raw = (10**df[range(1,len(df.columns))].astype('float64')-1)/1000\n",
    "\n",
    "#raw_col = raw.columns\n",
    "#raw['Gene'] = df['Gene']\n",
    "#raw = raw[['Gene'] + list(raw_col)]"
   ]
  }
 ],
 "metadata": {
  "kernelspec": {
   "display_name": "Python 3",
   "language": "python",
   "name": "python3"
  },
  "language_info": {
   "codemirror_mode": {
    "name": "ipython",
    "version": 3
   },
   "file_extension": ".py",
   "mimetype": "text/x-python",
   "name": "python",
   "nbconvert_exporter": "python",
   "pygments_lexer": "ipython3",
   "version": "3.7.4"
  }
 },
 "nbformat": 4,
 "nbformat_minor": 2
}
